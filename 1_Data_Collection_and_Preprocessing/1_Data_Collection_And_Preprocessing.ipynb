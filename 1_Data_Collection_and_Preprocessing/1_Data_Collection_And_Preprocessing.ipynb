{
  "cells": [
    {
      "cell_type": "markdown",
      "id": "AAY-kDqfY8lf",
      "metadata": {
        "id": "AAY-kDqfY8lf"
      },
      "source": [
        "\n",
        "<b>MLOps Assignment 2</b>\n",
        "<br>\n",
        "<b>Group : MlOps Group 76</b>\n",
        "<br>\n",
        "<b>Dataset Link : https://raw.githubusercontent.com/mwaskom/seaborn-data/master/iris.csv</b>\n",
        "<br>\n",
        "<b>Group Members:</b>\n",
        "<ul>\n",
        "    <li><b>CHAUDHARI AAKASH VINAYAK (2022ac05607)</b></li>\n",
        "    <li><b>AATIF HUSSAIN WAZA (2022ac05405)</b></li>\n",
        "    <li><b>AJIT KUMAR YADAV (2022ac05720)</b></li>\n",
        "    <li><b>MOHAMMAD ZUBAIR (2022ac05121)</b></li>\n",
        "</ul>"
      ]
    },
    {
      "cell_type": "markdown",
      "id": "d4685bab",
      "metadata": {
        "id": "d4685bab"
      },
      "source": [
        "# End-to-End Machine Learning Workflow with KizenML, XAI, and Cloud Deployment"
      ]
    },
    {
      "cell_type": "markdown",
      "id": "daa39b8e",
      "metadata": {
        "id": "daa39b8e"
      },
      "source": [
        "# Data preprocessing & Visualization using Auto EDA"
      ]
    },
    {
      "cell_type": "code",
      "execution_count": 3,
      "id": "c612450c",
      "metadata": {
        "colab": {
          "base_uri": "https://localhost:8080/"
        },
        "id": "c612450c",
        "outputId": "c9db4cc8-5dc4-452e-8b21-263f3a74d9bb"
      },
      "outputs": [
        {
          "name": "stdout",
          "output_type": "stream",
          "text": [
            "Requirement already satisfied: pandas in /usr/local/lib/python3.10/dist-packages (2.2.2)\n",
            "Requirement already satisfied: scikit-learn in /usr/local/lib/python3.10/dist-packages (1.3.2)\n",
            "Requirement already satisfied: sweetviz in /usr/local/lib/python3.10/dist-packages (2.3.1)\n",
            "Requirement already satisfied: autoviz in /usr/local/lib/python3.10/dist-packages (0.1.905)\n",
            "Requirement already satisfied: matplotlib in /usr/local/lib/python3.10/dist-packages (3.9.2)\n",
            "Requirement already satisfied: seaborn in /usr/local/lib/python3.10/dist-packages (0.13.1)\n",
            "Requirement already satisfied: numpy>=1.22.4 in /usr/local/lib/python3.10/dist-packages (from pandas) (1.26.4)\n",
            "Requirement already satisfied: python-dateutil>=2.8.2 in /usr/local/lib/python3.10/dist-packages (from pandas) (2.8.2)\n",
            "Requirement already satisfied: pytz>=2020.1 in /usr/local/lib/python3.10/dist-packages (from pandas) (2024.2)\n",
            "Requirement already satisfied: tzdata>=2022.7 in /usr/local/lib/python3.10/dist-packages (from pandas) (2024.1)\n",
            "Requirement already satisfied: scipy>=1.5.0 in /usr/local/lib/python3.10/dist-packages (from scikit-learn) (1.13.1)\n",
            "Requirement already satisfied: joblib>=1.1.1 in /usr/local/lib/python3.10/dist-packages (from scikit-learn) (1.4.2)\n",
            "Requirement already satisfied: threadpoolctl>=2.0.0 in /usr/local/lib/python3.10/dist-packages (from scikit-learn) (3.5.0)\n",
            "Requirement already satisfied: tqdm>=4.43.0 in /usr/local/lib/python3.10/dist-packages (from sweetviz) (4.66.5)\n",
            "Requirement already satisfied: jinja2>=2.11.1 in /usr/local/lib/python3.10/dist-packages (from sweetviz) (3.1.4)\n",
            "Requirement already satisfied: importlib-resources>=1.2.0 in /usr/local/lib/python3.10/dist-packages (from sweetviz) (6.4.5)\n",
            "Requirement already satisfied: xlrd in /usr/local/lib/python3.10/dist-packages (from autoviz) (2.0.1)\n",
            "Requirement already satisfied: wordcloud in /usr/local/lib/python3.10/dist-packages (from autoviz) (1.9.3)\n",
            "Requirement already satisfied: emoji in /usr/local/lib/python3.10/dist-packages (from autoviz) (2.12.1)\n",
            "Requirement already satisfied: pyamg in /usr/local/lib/python3.10/dist-packages (from autoviz) (5.2.1)\n",
            "Requirement already satisfied: statsmodels in /usr/local/lib/python3.10/dist-packages (from autoviz) (0.14.2)\n",
            "Requirement already satisfied: nltk in /usr/local/lib/python3.10/dist-packages (from autoviz) (3.8.1)\n",
            "Requirement already satisfied: textblob in /usr/local/lib/python3.10/dist-packages (from autoviz) (0.17.1)\n",
            "Requirement already satisfied: xgboost<1.7,>=0.82 in /usr/local/lib/python3.10/dist-packages (from autoviz) (1.6.2)\n",
            "Requirement already satisfied: fsspec>=0.8.3 in /usr/local/lib/python3.10/dist-packages (from autoviz) (2024.6.1)\n",
            "Requirement already satisfied: typing-extensions>=4.1.1 in /usr/local/lib/python3.10/dist-packages (from autoviz) (4.12.2)\n",
            "Requirement already satisfied: pandas-dq>=1.29 in /usr/local/lib/python3.10/dist-packages (from autoviz) (1.29)\n",
            "Requirement already satisfied: hvplot>=0.9.2 in /usr/local/lib/python3.10/dist-packages (from autoviz) (0.10.0)\n",
            "Requirement already satisfied: holoviews>=1.16.0 in /usr/local/lib/python3.10/dist-packages (from autoviz) (1.18.3)\n",
            "Requirement already satisfied: panel>=1.4.0 in /usr/local/lib/python3.10/dist-packages (from autoviz) (1.4.5)\n",
            "Requirement already satisfied: contourpy>=1.0.1 in /usr/local/lib/python3.10/dist-packages (from matplotlib) (1.3.0)\n",
            "Requirement already satisfied: cycler>=0.10 in /usr/local/lib/python3.10/dist-packages (from matplotlib) (0.12.1)\n",
            "Requirement already satisfied: fonttools>=4.22.0 in /usr/local/lib/python3.10/dist-packages (from matplotlib) (4.53.1)\n",
            "Requirement already satisfied: kiwisolver>=1.3.1 in /usr/local/lib/python3.10/dist-packages (from matplotlib) (1.4.7)\n",
            "Requirement already satisfied: packaging>=20.0 in /usr/local/lib/python3.10/dist-packages (from matplotlib) (24.1)\n",
            "Requirement already satisfied: pillow>=8 in /usr/local/lib/python3.10/dist-packages (from matplotlib) (9.4.0)\n",
            "Requirement already satisfied: pyparsing>=2.3.1 in /usr/local/lib/python3.10/dist-packages (from matplotlib) (3.1.4)\n",
            "Requirement already satisfied: param<3.0,>=1.12.0 in /usr/local/lib/python3.10/dist-packages (from holoviews>=1.16.0->autoviz) (2.1.1)\n",
            "Requirement already satisfied: pyviz-comms>=0.7.4 in /usr/local/lib/python3.10/dist-packages (from holoviews>=1.16.0->autoviz) (3.0.3)\n",
            "Requirement already satisfied: colorcet in /usr/local/lib/python3.10/dist-packages (from holoviews>=1.16.0->autoviz) (3.1.0)\n",
            "Requirement already satisfied: bokeh>=1.0.0 in /usr/local/lib/python3.10/dist-packages (from hvplot>=0.9.2->autoviz) (3.4.3)\n",
            "Requirement already satisfied: MarkupSafe>=2.0 in /usr/local/lib/python3.10/dist-packages (from jinja2>=2.11.1->sweetviz) (2.1.5)\n",
            "Requirement already satisfied: xyzservices>=2021.09.1 in /usr/local/lib/python3.10/dist-packages (from panel>=1.4.0->autoviz) (2024.9.0)\n",
            "Requirement already satisfied: markdown in /usr/local/lib/python3.10/dist-packages (from panel>=1.4.0->autoviz) (3.7)\n",
            "Requirement already satisfied: markdown-it-py in /usr/local/lib/python3.10/dist-packages (from panel>=1.4.0->autoviz) (3.0.0)\n",
            "Requirement already satisfied: linkify-it-py in /usr/local/lib/python3.10/dist-packages (from panel>=1.4.0->autoviz) (2.0.3)\n",
            "Requirement already satisfied: mdit-py-plugins in /usr/local/lib/python3.10/dist-packages (from panel>=1.4.0->autoviz) (0.4.2)\n",
            "Requirement already satisfied: requests in /usr/local/lib/python3.10/dist-packages (from panel>=1.4.0->autoviz) (2.32.3)\n",
            "Requirement already satisfied: bleach in /usr/local/lib/python3.10/dist-packages (from panel>=1.4.0->autoviz) (6.1.0)\n",
            "Requirement already satisfied: six>=1.5 in /usr/local/lib/python3.10/dist-packages (from python-dateutil>=2.8.2->pandas) (1.16.0)\n",
            "Requirement already satisfied: click in /usr/local/lib/python3.10/dist-packages (from nltk->autoviz) (8.1.7)\n",
            "Requirement already satisfied: regex>=2021.8.3 in /usr/local/lib/python3.10/dist-packages (from nltk->autoviz) (2024.5.15)\n",
            "Requirement already satisfied: patsy>=0.5.6 in /usr/local/lib/python3.10/dist-packages (from statsmodels->autoviz) (0.5.6)\n",
            "Requirement already satisfied: PyYAML>=3.10 in /usr/local/lib/python3.10/dist-packages (from bokeh>=1.0.0->hvplot>=0.9.2->autoviz) (6.0.2)\n",
            "Requirement already satisfied: tornado>=6.2 in /usr/local/lib/python3.10/dist-packages (from bokeh>=1.0.0->hvplot>=0.9.2->autoviz) (6.3.3)\n",
            "Requirement already satisfied: webencodings in /usr/local/lib/python3.10/dist-packages (from bleach->panel>=1.4.0->autoviz) (0.5.1)\n",
            "Requirement already satisfied: uc-micro-py in /usr/local/lib/python3.10/dist-packages (from linkify-it-py->panel>=1.4.0->autoviz) (1.0.3)\n",
            "Requirement already satisfied: mdurl~=0.1 in /usr/local/lib/python3.10/dist-packages (from markdown-it-py->panel>=1.4.0->autoviz) (0.1.2)\n",
            "Requirement already satisfied: charset-normalizer<4,>=2 in /usr/local/lib/python3.10/dist-packages (from requests->panel>=1.4.0->autoviz) (3.3.2)\n",
            "Requirement already satisfied: idna<4,>=2.5 in /usr/local/lib/python3.10/dist-packages (from requests->panel>=1.4.0->autoviz) (3.8)\n",
            "Requirement already satisfied: urllib3<3,>=1.21.1 in /usr/local/lib/python3.10/dist-packages (from requests->panel>=1.4.0->autoviz) (2.0.7)\n",
            "Requirement already satisfied: certifi>=2017.4.17 in /usr/local/lib/python3.10/dist-packages (from requests->panel>=1.4.0->autoviz) (2024.8.30)\n"
          ]
        }
      ],
      "source": [
        "!pip install pandas scikit-learn sweetviz autoviz matplotlib seaborn"
      ]
    },
    {
      "cell_type": "markdown",
      "id": "cv_6faUXZ4WP",
      "metadata": {
        "id": "cv_6faUXZ4WP"
      },
      "source": [
        "# Import Libraries"
      ]
    },
    {
      "cell_type": "code",
      "execution_count": 4,
      "id": "e5dc7505",
      "metadata": {
        "colab": {
          "base_uri": "https://localhost:8080/"
        },
        "id": "e5dc7505",
        "outputId": "dc3e8662-aa8c-4278-eb59-7e6245fdcbae"
      },
      "outputs": [
        {
          "name": "stdout",
          "output_type": "stream",
          "text": [
            "Imported v0.1.905. Please call AutoViz in this sequence:\n",
            "    AV = AutoViz_Class()\n",
            "    %matplotlib inline\n",
            "    dfte = AV.AutoViz(filename, sep=',', depVar='', dfte=None, header=0, verbose=1, lowess=False,\n",
            "               chart_format='svg',max_rows_analyzed=150000,max_cols_analyzed=30, save_plot_dir=None)\n"
          ]
        }
      ],
      "source": [
        "import pandas as pd\n",
        "import numpy as np\n",
        "from sklearn.model_selection import train_test_split\n",
        "from sklearn.preprocessing import StandardScaler\n",
        "import sweetviz as sv\n",
        "from autoviz.AutoViz_Class import AutoViz_Class\n",
        "import seaborn as sns\n",
        "import matplotlib.pyplot as plt"
      ]
    },
    {
      "cell_type": "markdown",
      "id": "f2d17691",
      "metadata": {
        "id": "f2d17691"
      },
      "source": [
        "# Data Collection and Preprocessing :"
      ]
    },
    {
      "cell_type": "code",
      "execution_count": 5,
      "id": "becd4aa2",
      "metadata": {
        "colab": {
          "base_uri": "https://localhost:8080/"
        },
        "id": "becd4aa2",
        "outputId": "d98941e2-7fe9-4bd4-e469-de8621f7b04c"
      },
      "outputs": [
        {
          "name": "stdout",
          "output_type": "stream",
          "text": [
            "First 5 rows of the dataset:\n",
            "   sepal_length  sepal_width  petal_length  petal_width species\n",
            "0       5.1          3.5           1.4          0.2      setosa\n",
            "1       4.9          3.0           1.4          0.2      setosa\n",
            "2       4.7          3.2           1.3          0.2      setosa\n",
            "3       4.6          3.1           1.5          0.2      setosa\n",
            "4       5.0          3.6           1.4          0.2      setosa\n"
          ]
        }
      ],
      "source": [
        "url = 'https://raw.githubusercontent.com/mwaskom/seaborn-data/master/iris.csv'\n",
        "df = pd.read_csv(url)\n",
        "\n",
        "# Display the first few rows of the dataset\n",
        "print(\"First 5 rows of the dataset:\")\n",
        "print(df.head())"
      ]
    },
    {
      "cell_type": "markdown",
      "id": "b7b81f14",
      "metadata": {
        "id": "b7b81f14"
      },
      "source": [
        "# Data Cleaning"
      ]
    },
    {
      "cell_type": "code",
      "execution_count": 6,
      "id": "c9bba791",
      "metadata": {
        "colab": {
          "base_uri": "https://localhost:8080/"
        },
        "id": "c9bba791",
        "outputId": "7cd7f710-07ea-4f11-9aaa-a27a28baef1f"
      },
      "outputs": [
        {
          "name": "stdout",
          "output_type": "stream",
          "text": [
            "\n",
            "Checking for missing values and duplicates:\n",
            "sepal_length    0\n",
            "sepal_width     0\n",
            "petal_length    0\n",
            "petal_width     0\n",
            "species         0\n",
            "dtype: int64\n",
            "Duplicate rows: 1\n"
          ]
        }
      ],
      "source": [
        "# No duplicates or missing values in the Iris dataset, but always good to check\n",
        "print(\"\\nChecking for missing values and duplicates:\")\n",
        "print(df.isnull().sum())\n",
        "print(f\"Duplicate rows: {df.duplicated().sum()}\")"
      ]
    },
    {
      "cell_type": "markdown",
      "id": "efe270cb",
      "metadata": {
        "id": "efe270cb"
      },
      "source": [
        "# Feature Engineering"
      ]
    },
    {
      "cell_type": "code",
      "execution_count": 7,
      "id": "e3198080",
      "metadata": {
        "colab": {
          "base_uri": "https://localhost:8080/"
        },
        "id": "e3198080",
        "outputId": "e4ddba70-038e-4852-d05f-db6ece5db4e4"
      },
      "outputs": [
        {
          "name": "stdout",
          "output_type": "stream",
          "text": [
            "\n",
            "Dataset with newly engineered feature 'petal_area':\n",
            "   sepal_length  sepal_width  petal_length  petal_width species  petal_area\n",
            "0       5.1          3.5           1.4          0.2      setosa     0.28   \n",
            "1       4.9          3.0           1.4          0.2      setosa     0.28   \n",
            "2       4.7          3.2           1.3          0.2      setosa     0.26   \n",
            "3       4.6          3.1           1.5          0.2      setosa     0.30   \n",
            "4       5.0          3.6           1.4          0.2      setosa     0.28   \n"
          ]
        }
      ],
      "source": [
        "# Let's create a new feature based on petal area (length * width)\n",
        "df['petal_area'] = df['petal_length'] * df['petal_width']\n",
        "\n",
        "# Output the first few rows to check the new feature\n",
        "print(\"\\nDataset with newly engineered feature 'petal_area':\")\n",
        "print(df.head())"
      ]
    },
    {
      "cell_type": "markdown",
      "id": "a35a9708",
      "metadata": {
        "id": "a35a9708"
      },
      "source": [
        "\n",
        "# Preprocessing Pipelines"
      ]
    },
    {
      "cell_type": "code",
      "execution_count": 8,
      "id": "9551af12",
      "metadata": {
        "colab": {
          "base_uri": "https://localhost:8080/"
        },
        "id": "9551af12",
        "outputId": "1353c011-1be0-43b1-94ae-a0d9b5b01793"
      },
      "outputs": [
        {
          "name": "stdout",
          "output_type": "stream",
          "text": [
            "\n",
            "Shape of training data (scaled): (120, 5)\n",
            "Shape of test data (scaled): (30, 5)\n"
          ]
        }
      ],
      "source": [
        "# Define X (features) and y (target)\n",
        "X = df.drop(columns=['species'])\n",
        "y = df['species']\n",
        "\n",
        "# Train-test split\n",
        "X_train, X_test, y_train, y_test = train_test_split(X, y, test_size=0.2, random_state=42)\n",
        "\n",
        "# Scaling/Normalization using StandardScaler\n",
        "scaler = StandardScaler()\n",
        "X_train_scaled = scaler.fit_transform(X_train)\n",
        "X_test_scaled = scaler.transform(X_test)\n",
        "\n",
        "print(\"\\nShape of training data (scaled):\", X_train_scaled.shape)\n",
        "print(\"Shape of test data (scaled):\", X_test_scaled.shape)"
      ]
    },
    {
      "cell_type": "markdown",
      "id": "732f8f42",
      "metadata": {
        "id": "732f8f42"
      },
      "source": [
        "# AutoEDA using sweetviz"
      ]
    },
    {
      "cell_type": "code",
      "execution_count": 9,
      "id": "6fe775ff",
      "metadata": {
        "colab": {
          "base_uri": "https://localhost:8080/",
          "height": 121,
          "referenced_widgets": [
            "fa38a61e4b9e4854a8b11827a82a4bc2",
            "fac6f60a4999407eaf5c157b31d4f632",
            "5ae6608f5e6741529b7495e18944c435",
            "9129d3b42131430cb0ae58d662b397be",
            "8ce7f3b7d3b045059ad403b400b24d73",
            "d355e2e5bd8445fbb5b91e3e1a3aa6b0",
            "961fdd97e9e14876a3282b5f865a34bd",
            "2ab22c0d622b408daf8aae369fcfc9a6",
            "0344c106888f4f948015ec0ee67541ff",
            "a6106729535d4bf3bb8f72df380e83f1",
            "3308f83d30464986b311563bc6903c06"
          ]
        },
        "id": "6fe775ff",
        "outputId": "4cade85d-4f2f-41f4-ff28-857776daaa9a"
      },
      "outputs": [
        {
          "name": "stdout",
          "output_type": "stream",
          "text": [
            "\n",
            "Generating Sweetviz report...\n"
          ]
        },
        {
          "data": {
            "application/vnd.jupyter.widget-view+json": {
              "model_id": "fa38a61e4b9e4854a8b11827a82a4bc2",
              "version_major": 2,
              "version_minor": 0
            },
            "text/plain": [
              "                                             |          | [  0%]   00:00 -> (? left)"
            ]
          },
          "metadata": {},
          "output_type": "display_data"
        },
        {
          "name": "stdout",
          "output_type": "stream",
          "text": [
            "Report sweetviz_report.html was generated! NOTEBOOK/COLAB USERS: the web browser MAY not pop up, regardless, the report IS saved in your notebook/colab files.\n"
          ]
        }
      ],
      "source": [
        "# Generate an AutoEDA report using Sweetviz\n",
        "print(\"\\nGenerating Sweetviz report...\")\n",
        "report = sv.analyze(df)\n",
        "report.show_html(filepath=\"sweetviz_report.html\")"
      ]
    },
    {
      "cell_type": "markdown",
      "id": "77e155bb",
      "metadata": {
        "id": "77e155bb"
      },
      "source": [
        "# Auto EDA using Autoviz"
      ]
    },
    {
      "cell_type": "code",
      "execution_count": 10,
      "id": "fec20ef4",
      "metadata": {
        "colab": {
          "base_uri": "https://localhost:8080/",
          "height": 636
        },
        "id": "fec20ef4",
        "outputId": "a2abdb48-0390-4325-b751-6c850b08b742"
      },
      "outputs": [
        {
          "name": "stdout",
          "output_type": "stream",
          "text": [
            "\n",
            "Generating AutoViz report...\n",
            "Shape of your Data Set loaded: (150, 6)\n",
            "#######################################################################################\n",
            "######################## C L A S S I F Y I N G  V A R I A B L E S  ####################\n",
            "#######################################################################################\n",
            "Classifying variables in data set...\n",
            "    5 Predictors classified...\n",
            "        No variables removed since no ID or low-information variables found in data set\n",
            "\n",
            "################ Multi_Classification problem #####################\n",
            "There are 1 duplicate rows in your dataset\n",
            "    Alert: Dropping duplicate rows can sometimes cause your column data types to change to object!\n",
            "    All variables classified into correct types.\n"
          ]
        },
        {
          "data": {
            "text/html": [
              "<style type=\"text/css\">\n",
              "#T_0ec3e_row0_col0, #T_0ec3e_row0_col2, #T_0ec3e_row0_col3, #T_0ec3e_row0_col4, #T_0ec3e_row0_col5, #T_0ec3e_row1_col0, #T_0ec3e_row1_col2, #T_0ec3e_row1_col3, #T_0ec3e_row1_col4, #T_0ec3e_row1_col5, #T_0ec3e_row2_col0, #T_0ec3e_row2_col2, #T_0ec3e_row2_col3, #T_0ec3e_row2_col4, #T_0ec3e_row2_col5, #T_0ec3e_row3_col0, #T_0ec3e_row3_col2, #T_0ec3e_row3_col3, #T_0ec3e_row3_col4, #T_0ec3e_row3_col5, #T_0ec3e_row4_col0, #T_0ec3e_row4_col2, #T_0ec3e_row4_col3, #T_0ec3e_row4_col4, #T_0ec3e_row4_col5, #T_0ec3e_row5_col0, #T_0ec3e_row5_col2, #T_0ec3e_row5_col3, #T_0ec3e_row5_col4, #T_0ec3e_row5_col5 {\n",
              "  font-family: Segoe UI;\n",
              "}\n",
              "#T_0ec3e_row0_col1, #T_0ec3e_row1_col1, #T_0ec3e_row2_col1, #T_0ec3e_row3_col1, #T_0ec3e_row4_col1, #T_0ec3e_row5_col1 {\n",
              "  background-color: #fff5f0;\n",
              "  color: #000000;\n",
              "  font-family: Segoe UI;\n",
              "}\n",
              "</style>\n",
              "<table id=\"T_0ec3e\" class=\"dataframe\">\n",
              "  <thead>\n",
              "    <tr>\n",
              "      <th class=\"blank level0\" >&nbsp;</th>\n",
              "      <th id=\"T_0ec3e_level0_col0\" class=\"col_heading level0 col0\" >Data Type</th>\n",
              "      <th id=\"T_0ec3e_level0_col1\" class=\"col_heading level0 col1\" >Missing Values%</th>\n",
              "      <th id=\"T_0ec3e_level0_col2\" class=\"col_heading level0 col2\" >Unique Values%</th>\n",
              "      <th id=\"T_0ec3e_level0_col3\" class=\"col_heading level0 col3\" >Minimum Value</th>\n",
              "      <th id=\"T_0ec3e_level0_col4\" class=\"col_heading level0 col4\" >Maximum Value</th>\n",
              "      <th id=\"T_0ec3e_level0_col5\" class=\"col_heading level0 col5\" >DQ Issue</th>\n",
              "    </tr>\n",
              "  </thead>\n",
              "  <tbody>\n",
              "    <tr>\n",
              "      <th id=\"T_0ec3e_level0_row0\" class=\"row_heading level0 row0\" >sepal_length</th>\n",
              "      <td id=\"T_0ec3e_row0_col0\" class=\"data row0 col0\" >float64</td>\n",
              "      <td id=\"T_0ec3e_row0_col1\" class=\"data row0 col1\" >0.000000</td>\n",
              "      <td id=\"T_0ec3e_row0_col2\" class=\"data row0 col2\" >NA</td>\n",
              "      <td id=\"T_0ec3e_row0_col3\" class=\"data row0 col3\" >4.300000</td>\n",
              "      <td id=\"T_0ec3e_row0_col4\" class=\"data row0 col4\" >7.900000</td>\n",
              "      <td id=\"T_0ec3e_row0_col5\" class=\"data row0 col5\" >No issue</td>\n",
              "    </tr>\n",
              "    <tr>\n",
              "      <th id=\"T_0ec3e_level0_row1\" class=\"row_heading level0 row1\" >sepal_width</th>\n",
              "      <td id=\"T_0ec3e_row1_col0\" class=\"data row1 col0\" >float64</td>\n",
              "      <td id=\"T_0ec3e_row1_col1\" class=\"data row1 col1\" >0.000000</td>\n",
              "      <td id=\"T_0ec3e_row1_col2\" class=\"data row1 col2\" >NA</td>\n",
              "      <td id=\"T_0ec3e_row1_col3\" class=\"data row1 col3\" >2.000000</td>\n",
              "      <td id=\"T_0ec3e_row1_col4\" class=\"data row1 col4\" >4.400000</td>\n",
              "      <td id=\"T_0ec3e_row1_col5\" class=\"data row1 col5\" >Column has 4 outliers greater than upper bound (4.05) or lower than lower bound(2.05). Cap them or remove them.</td>\n",
              "    </tr>\n",
              "    <tr>\n",
              "      <th id=\"T_0ec3e_level0_row2\" class=\"row_heading level0 row2\" >petal_length</th>\n",
              "      <td id=\"T_0ec3e_row2_col0\" class=\"data row2 col0\" >float64</td>\n",
              "      <td id=\"T_0ec3e_row2_col1\" class=\"data row2 col1\" >0.000000</td>\n",
              "      <td id=\"T_0ec3e_row2_col2\" class=\"data row2 col2\" >NA</td>\n",
              "      <td id=\"T_0ec3e_row2_col3\" class=\"data row2 col3\" >1.000000</td>\n",
              "      <td id=\"T_0ec3e_row2_col4\" class=\"data row2 col4\" >6.900000</td>\n",
              "      <td id=\"T_0ec3e_row2_col5\" class=\"data row2 col5\" >Column has a high correlation with ['sepal_length']. Consider dropping one of them.</td>\n",
              "    </tr>\n",
              "    <tr>\n",
              "      <th id=\"T_0ec3e_level0_row3\" class=\"row_heading level0 row3\" >petal_width</th>\n",
              "      <td id=\"T_0ec3e_row3_col0\" class=\"data row3 col0\" >float64</td>\n",
              "      <td id=\"T_0ec3e_row3_col1\" class=\"data row3 col1\" >0.000000</td>\n",
              "      <td id=\"T_0ec3e_row3_col2\" class=\"data row3 col2\" >NA</td>\n",
              "      <td id=\"T_0ec3e_row3_col3\" class=\"data row3 col3\" >0.100000</td>\n",
              "      <td id=\"T_0ec3e_row3_col4\" class=\"data row3 col4\" >2.500000</td>\n",
              "      <td id=\"T_0ec3e_row3_col5\" class=\"data row3 col5\" >Column has a high correlation with ['sepal_length', 'petal_length']. Consider dropping one of them.</td>\n",
              "    </tr>\n",
              "    <tr>\n",
              "      <th id=\"T_0ec3e_level0_row4\" class=\"row_heading level0 row4\" >petal_area</th>\n",
              "      <td id=\"T_0ec3e_row4_col0\" class=\"data row4 col0\" >float64</td>\n",
              "      <td id=\"T_0ec3e_row4_col1\" class=\"data row4 col1\" >0.000000</td>\n",
              "      <td id=\"T_0ec3e_row4_col2\" class=\"data row4 col2\" >NA</td>\n",
              "      <td id=\"T_0ec3e_row4_col3\" class=\"data row4 col3\" >0.110000</td>\n",
              "      <td id=\"T_0ec3e_row4_col4\" class=\"data row4 col4\" >15.870000</td>\n",
              "      <td id=\"T_0ec3e_row4_col5\" class=\"data row4 col5\" >Column has a high correlation with ['sepal_length', 'petal_length', 'petal_width']. Consider dropping one of them.</td>\n",
              "    </tr>\n",
              "    <tr>\n",
              "      <th id=\"T_0ec3e_level0_row5\" class=\"row_heading level0 row5\" >species</th>\n",
              "      <td id=\"T_0ec3e_row5_col0\" class=\"data row5 col0\" >object</td>\n",
              "      <td id=\"T_0ec3e_row5_col1\" class=\"data row5 col1\" >0.000000</td>\n",
              "      <td id=\"T_0ec3e_row5_col2\" class=\"data row5 col2\" >2</td>\n",
              "      <td id=\"T_0ec3e_row5_col3\" class=\"data row5 col3\" ></td>\n",
              "      <td id=\"T_0ec3e_row5_col4\" class=\"data row5 col4\" ></td>\n",
              "      <td id=\"T_0ec3e_row5_col5\" class=\"data row5 col5\" >Target column</td>\n",
              "    </tr>\n",
              "  </tbody>\n",
              "</table>\n"
            ],
            "text/plain": [
              "<pandas.io.formats.style.Styler at 0x7d1ecdbcab30>"
            ]
          },
          "metadata": {},
          "output_type": "display_data"
        },
        {
          "name": "stdout",
          "output_type": "stream",
          "text": [
            "Total Number of Scatter Plots = 15\n",
            "All Plots done\n",
            "Time to run AutoViz = 8 seconds \n",
            "\n",
            " ###################### AUTO VISUALIZATION Completed ########################\n"
          ]
        }
      ],
      "source": [
        "print(\"\\nGenerating AutoViz report...\")\n",
        "AV = AutoViz_Class()\n",
        "df_autoviz = AV.AutoViz(filename=\"\", dfte=df, depVar='species', verbose=0)"
      ]
    }
  ],
  "metadata": {
    "colab": {
      "provenance": []
    },
    "kernelspec": {
      "display_name": "Python 3 (ipykernel)",
      "language": "python",
      "name": "python3"
    },
    "language_info": {
      "codemirror_mode": {
        "name": "ipython",
        "version": 3
      },
      "file_extension": ".py",
      "mimetype": "text/x-python",
      "name": "python",
      "nbconvert_exporter": "python",
      "pygments_lexer": "ipython3",
      "version": "3.10.9"
    },
    "widgets": {
      "application/vnd.jupyter.widget-state+json": {
        "0344c106888f4f948015ec0ee67541ff": {
          "model_module": "@jupyter-widgets/controls",
          "model_module_version": "1.5.0",
          "model_name": "ProgressStyleModel",
          "state": {
            "_model_module": "@jupyter-widgets/controls",
            "_model_module_version": "1.5.0",
            "_model_name": "ProgressStyleModel",
            "_view_count": null,
            "_view_module": "@jupyter-widgets/base",
            "_view_module_version": "1.2.0",
            "_view_name": "StyleView",
            "bar_color": null,
            "description_width": ""
          }
        },
        "2ab22c0d622b408daf8aae369fcfc9a6": {
          "model_module": "@jupyter-widgets/base",
          "model_module_version": "1.2.0",
          "model_name": "LayoutModel",
          "state": {
            "_model_module": "@jupyter-widgets/base",
            "_model_module_version": "1.2.0",
            "_model_name": "LayoutModel",
            "_view_count": null,
            "_view_module": "@jupyter-widgets/base",
            "_view_module_version": "1.2.0",
            "_view_name": "LayoutView",
            "align_content": null,
            "align_items": null,
            "align_self": null,
            "border": null,
            "bottom": null,
            "display": null,
            "flex": "2",
            "flex_flow": null,
            "grid_area": null,
            "grid_auto_columns": null,
            "grid_auto_flow": null,
            "grid_auto_rows": null,
            "grid_column": null,
            "grid_gap": null,
            "grid_row": null,
            "grid_template_areas": null,
            "grid_template_columns": null,
            "grid_template_rows": null,
            "height": null,
            "justify_content": null,
            "justify_items": null,
            "left": null,
            "margin": null,
            "max_height": null,
            "max_width": null,
            "min_height": null,
            "min_width": null,
            "object_fit": null,
            "object_position": null,
            "order": null,
            "overflow": null,
            "overflow_x": null,
            "overflow_y": null,
            "padding": null,
            "right": null,
            "top": null,
            "visibility": null,
            "width": null
          }
        },
        "3308f83d30464986b311563bc6903c06": {
          "model_module": "@jupyter-widgets/controls",
          "model_module_version": "1.5.0",
          "model_name": "DescriptionStyleModel",
          "state": {
            "_model_module": "@jupyter-widgets/controls",
            "_model_module_version": "1.5.0",
            "_model_name": "DescriptionStyleModel",
            "_view_count": null,
            "_view_module": "@jupyter-widgets/base",
            "_view_module_version": "1.2.0",
            "_view_name": "StyleView",
            "description_width": ""
          }
        },
        "5ae6608f5e6741529b7495e18944c435": {
          "model_module": "@jupyter-widgets/controls",
          "model_module_version": "1.5.0",
          "model_name": "FloatProgressModel",
          "state": {
            "_dom_classes": [],
            "_model_module": "@jupyter-widgets/controls",
            "_model_module_version": "1.5.0",
            "_model_name": "FloatProgressModel",
            "_view_count": null,
            "_view_module": "@jupyter-widgets/controls",
            "_view_module_version": "1.5.0",
            "_view_name": "ProgressView",
            "bar_style": "success",
            "description": "",
            "description_tooltip": null,
            "layout": "IPY_MODEL_2ab22c0d622b408daf8aae369fcfc9a6",
            "max": 1,
            "min": 0,
            "orientation": "horizontal",
            "style": "IPY_MODEL_0344c106888f4f948015ec0ee67541ff",
            "value": 1
          }
        },
        "8ce7f3b7d3b045059ad403b400b24d73": {
          "model_module": "@jupyter-widgets/base",
          "model_module_version": "1.2.0",
          "model_name": "LayoutModel",
          "state": {
            "_model_module": "@jupyter-widgets/base",
            "_model_module_version": "1.2.0",
            "_model_name": "LayoutModel",
            "_view_count": null,
            "_view_module": "@jupyter-widgets/base",
            "_view_module_version": "1.2.0",
            "_view_name": "LayoutView",
            "align_content": null,
            "align_items": null,
            "align_self": null,
            "border": null,
            "bottom": null,
            "display": "inline-flex",
            "flex": null,
            "flex_flow": "row wrap",
            "grid_area": null,
            "grid_auto_columns": null,
            "grid_auto_flow": null,
            "grid_auto_rows": null,
            "grid_column": null,
            "grid_gap": null,
            "grid_row": null,
            "grid_template_areas": null,
            "grid_template_columns": null,
            "grid_template_rows": null,
            "height": null,
            "justify_content": null,
            "justify_items": null,
            "left": null,
            "margin": null,
            "max_height": null,
            "max_width": null,
            "min_height": null,
            "min_width": null,
            "object_fit": null,
            "object_position": null,
            "order": null,
            "overflow": null,
            "overflow_x": null,
            "overflow_y": null,
            "padding": null,
            "right": null,
            "top": null,
            "visibility": null,
            "width": "100%"
          }
        },
        "9129d3b42131430cb0ae58d662b397be": {
          "model_module": "@jupyter-widgets/controls",
          "model_module_version": "1.5.0",
          "model_name": "HTMLModel",
          "state": {
            "_dom_classes": [],
            "_model_module": "@jupyter-widgets/controls",
            "_model_module_version": "1.5.0",
            "_model_name": "HTMLModel",
            "_view_count": null,
            "_view_module": "@jupyter-widgets/controls",
            "_view_module_version": "1.5.0",
            "_view_name": "HTMLView",
            "description": "",
            "description_tooltip": null,
            "layout": "IPY_MODEL_a6106729535d4bf3bb8f72df380e83f1",
            "placeholder": "​",
            "style": "IPY_MODEL_3308f83d30464986b311563bc6903c06",
            "value": " [100%]   00:01 -&gt; (00:00 left)"
          }
        },
        "961fdd97e9e14876a3282b5f865a34bd": {
          "model_module": "@jupyter-widgets/controls",
          "model_module_version": "1.5.0",
          "model_name": "DescriptionStyleModel",
          "state": {
            "_model_module": "@jupyter-widgets/controls",
            "_model_module_version": "1.5.0",
            "_model_name": "DescriptionStyleModel",
            "_view_count": null,
            "_view_module": "@jupyter-widgets/base",
            "_view_module_version": "1.2.0",
            "_view_name": "StyleView",
            "description_width": ""
          }
        },
        "a6106729535d4bf3bb8f72df380e83f1": {
          "model_module": "@jupyter-widgets/base",
          "model_module_version": "1.2.0",
          "model_name": "LayoutModel",
          "state": {
            "_model_module": "@jupyter-widgets/base",
            "_model_module_version": "1.2.0",
            "_model_name": "LayoutModel",
            "_view_count": null,
            "_view_module": "@jupyter-widgets/base",
            "_view_module_version": "1.2.0",
            "_view_name": "LayoutView",
            "align_content": null,
            "align_items": null,
            "align_self": null,
            "border": null,
            "bottom": null,
            "display": null,
            "flex": null,
            "flex_flow": null,
            "grid_area": null,
            "grid_auto_columns": null,
            "grid_auto_flow": null,
            "grid_auto_rows": null,
            "grid_column": null,
            "grid_gap": null,
            "grid_row": null,
            "grid_template_areas": null,
            "grid_template_columns": null,
            "grid_template_rows": null,
            "height": null,
            "justify_content": null,
            "justify_items": null,
            "left": null,
            "margin": null,
            "max_height": null,
            "max_width": null,
            "min_height": null,
            "min_width": null,
            "object_fit": null,
            "object_position": null,
            "order": null,
            "overflow": null,
            "overflow_x": null,
            "overflow_y": null,
            "padding": null,
            "right": null,
            "top": null,
            "visibility": null,
            "width": null
          }
        },
        "d355e2e5bd8445fbb5b91e3e1a3aa6b0": {
          "model_module": "@jupyter-widgets/base",
          "model_module_version": "1.2.0",
          "model_name": "LayoutModel",
          "state": {
            "_model_module": "@jupyter-widgets/base",
            "_model_module_version": "1.2.0",
            "_model_name": "LayoutModel",
            "_view_count": null,
            "_view_module": "@jupyter-widgets/base",
            "_view_module_version": "1.2.0",
            "_view_name": "LayoutView",
            "align_content": null,
            "align_items": null,
            "align_self": null,
            "border": null,
            "bottom": null,
            "display": null,
            "flex": null,
            "flex_flow": null,
            "grid_area": null,
            "grid_auto_columns": null,
            "grid_auto_flow": null,
            "grid_auto_rows": null,
            "grid_column": null,
            "grid_gap": null,
            "grid_row": null,
            "grid_template_areas": null,
            "grid_template_columns": null,
            "grid_template_rows": null,
            "height": null,
            "justify_content": null,
            "justify_items": null,
            "left": null,
            "margin": null,
            "max_height": null,
            "max_width": null,
            "min_height": null,
            "min_width": null,
            "object_fit": null,
            "object_position": null,
            "order": null,
            "overflow": null,
            "overflow_x": null,
            "overflow_y": null,
            "padding": null,
            "right": null,
            "top": null,
            "visibility": null,
            "width": null
          }
        },
        "fa38a61e4b9e4854a8b11827a82a4bc2": {
          "model_module": "@jupyter-widgets/controls",
          "model_module_version": "1.5.0",
          "model_name": "HBoxModel",
          "state": {
            "_dom_classes": [],
            "_model_module": "@jupyter-widgets/controls",
            "_model_module_version": "1.5.0",
            "_model_name": "HBoxModel",
            "_view_count": null,
            "_view_module": "@jupyter-widgets/controls",
            "_view_module_version": "1.5.0",
            "_view_name": "HBoxView",
            "box_style": "",
            "children": [
              "IPY_MODEL_fac6f60a4999407eaf5c157b31d4f632",
              "IPY_MODEL_5ae6608f5e6741529b7495e18944c435",
              "IPY_MODEL_9129d3b42131430cb0ae58d662b397be"
            ],
            "layout": "IPY_MODEL_8ce7f3b7d3b045059ad403b400b24d73"
          }
        },
        "fac6f60a4999407eaf5c157b31d4f632": {
          "model_module": "@jupyter-widgets/controls",
          "model_module_version": "1.5.0",
          "model_name": "HTMLModel",
          "state": {
            "_dom_classes": [],
            "_model_module": "@jupyter-widgets/controls",
            "_model_module_version": "1.5.0",
            "_model_name": "HTMLModel",
            "_view_count": null,
            "_view_module": "@jupyter-widgets/controls",
            "_view_module_version": "1.5.0",
            "_view_name": "HTMLView",
            "description": "",
            "description_tooltip": null,
            "layout": "IPY_MODEL_d355e2e5bd8445fbb5b91e3e1a3aa6b0",
            "placeholder": "​",
            "style": "IPY_MODEL_961fdd97e9e14876a3282b5f865a34bd",
            "value": "Done! Use &#x27;show&#x27; commands to display/save.   "
          }
        }
      }
    }
  },
  "nbformat": 4,
  "nbformat_minor": 5
}
